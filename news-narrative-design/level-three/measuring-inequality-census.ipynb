{
 "cells": [
  {
   "cell_type": "markdown",
   "metadata": {},
   "source": [
    "# Measuring Inequality Using The U.S. Census\n",
    "\n",
    "### Links\n",
    "* [Portal](http://www.census.gov/topics/income-poverty/income.html)\n",
    "* [Current Population Survey Table Creator](http://www.census.gov/cps/data/cpstablecreator.html)\n",
    "* [Fact Finder](http://factfinder.census.gov/faces/nav/jsf/pages/searchresults.xhtml?refresh=t)\n",
    "\n",
    "## Census Basics\n",
    "\n",
    "[Various surveys](http://www.census.gov/programs-surveys.html) conducted on differing timelines. Results can be combined for some but not others. The short version:\n",
    "* Decennial Census - Counts every American possible every 10 years as mandated by the constitution\n",
    "* American Community Survey - Smaller sample size, more detailed questions on a yearly basis (roughly 2 million households responded in 2014)\n",
    "* Current Population Survey / Annual Social and Economic Supplement - Even smaller sample conducted more frequently to provide monthly labor force data\n",
    "\n",
    "### Common Approaches\n",
    "* [Household Income (Quintiles)](http://factfinder.census.gov/faces/tableservices/jsf/pages/productview.xhtml?src=bkmk)\n",
    " * Caveats: A husband and wife each making a modest \\$50,000 form one high income household, but divorced they form two middle income households. Thus, median measurements can shift without any change in what people earn. \n",
    "* [Poverty Status](http://www.census.gov/did/www/saipe/index.html)\n",
    " * [Thresholds are selected by the Census](http://www.census.gov/data/tables/time-series/demo/income-poverty/historical-poverty-thresholds.html) and [may not include the cost of significant household expenditures](http://www.nyc.gov/html/ceo/downloads/pdf/ceo_poverty_measure_2005_2012.pdf).\n",
    "* [Employement Status](http://factfinder.census.gov/faces/tableservices/jsf/pages/productview.xhtml?pid=ACS_14_5YR_S2301&prodType=table)\n",
    " * Different surveys ask [different questions](https://www.census.gov/hhes/www/laborfor/laborguidance092209.html) which can [influence the percentage of people considered in active labor force pool](http://www.bls.gov/cps/cps_htgm.htm#nilf) \n",
    "* [Insurance Status](http://factfinder.census.gov/faces/tableservices/jsf/pages/productview.xhtml?pid=ACS_14_5YR_S2701&prodType=table)\n",
    " * Healthcare costs vary based on employment status and age.\n",
    "* [Educational Attainment](http://factfinder.census.gov/faces/tableservices/jsf/pages/productview.xhtml?pid=ACS_14_5YR_S1501&prodType=table)\n",
    " * A proxy that suggests quality of life\n",
    "* [Gini Index (more on this in another talk)](http://factfinder.census.gov/faces/tableservices/jsf/pages/productview.xhtml?src=bkmk)\n",
    " * Describes distribution of inequality based on your measures... typically 0 expresses perfect equality and 1 expresses the opposite\n",
    " \n",
    " \n",
    "### Recent Coverage On Rising Incomes\n",
    "\n",
    "Census data released this September showed considerable gains in household income, reduction in poverty and an increase in full-time employment \n",
    "\n",
    "[The New York Times](http://www.nytimes.com/2016/09/14/upshot/the-economic-expansion-is-helping-the-middle-class-finally.html)\n",
    "> The most decisive evidence of improving fortunes is found in new census data released Tuesday showing that median household income rose a whopping 5.2 percent in 2015, to around \\$56,500. According to that data, incomes rose for black families, white families, Hispanic families and Asian-American families. It rose for young people and in households headed by middle-aged adults and older people. In short, the improvement was across the board to a remarkable degree.\n",
    "\n",
    "[The Wall Street Journal](http://www.wsj.com/articles/rising-incomes-juice-consumer-spending-1473798203)\n",
    "> John Shin and Michelle Meyer of Bank of America Merrill Lynch estimate that roughly 60% of U.S. households spend all of their income. For most of these people additional income translates into additional spending. That is a one reason the consumer has been the biggest thing the U.S. economy has had going for it lately. \n"
   ]
  },
  {
   "cell_type": "code",
   "execution_count": null,
   "metadata": {
    "collapsed": true
   },
   "outputs": [],
   "source": []
  }
 ],
 "metadata": {
  "anaconda-cloud": {},
  "kernelspec": {
   "display_name": "Python [Root]",
   "language": "python",
   "name": "Python [Root]"
  },
  "language_info": {
   "codemirror_mode": {
    "name": "ipython",
    "version": 3
   },
   "file_extension": ".py",
   "mimetype": "text/x-python",
   "name": "python",
   "nbconvert_exporter": "python",
   "pygments_lexer": "ipython3",
   "version": "3.5.2"
  }
 },
 "nbformat": 4,
 "nbformat_minor": 0
}
