{
 "cells": [
  {
   "cell_type": "markdown",
   "metadata": {},
   "source": [
    "# Bridges\n",
    "\n",
    "From a national data set to local map..."
   ]
  },
  {
   "cell_type": "code",
   "execution_count": 2,
   "metadata": {
    "collapsed": false
   },
   "outputs": [
    {
     "name": "stderr",
     "output_type": "stream",
     "text": [
      "/Users/ShaneShifflett/anaconda/lib/python3.5/site-packages/IPython/core/interactiveshell.py:2723: DtypeWarning: Columns (7,36,39,75,96,98,102,107,108) have mixed types. Specify dtype option on import or set low_memory=False.\n",
      "  interactivity=interactivity, compiler=compiler, result=result)\n"
     ]
    },
    {
     "data": {
      "text/html": [
       "<div>\n",
       "<table border=\"1\" class=\"dataframe\">\n",
       "  <thead>\n",
       "    <tr style=\"text-align: right;\">\n",
       "      <th></th>\n",
       "      <th>STATE_CODE_001</th>\n",
       "      <th>STRUCTURE_NUMBER_008</th>\n",
       "      <th>RECORD_TYPE_005A</th>\n",
       "      <th>ROUTE_PREFIX_005B</th>\n",
       "      <th>SERVICE_LEVEL_005C</th>\n",
       "      <th>ROUTE_NUMBER_005D</th>\n",
       "      <th>DIRECTION_005E</th>\n",
       "      <th>HIGHWAY_DISTRICT_002</th>\n",
       "      <th>COUNTY_CODE_003</th>\n",
       "      <th>PLACE_CODE_004</th>\n",
       "      <th>...</th>\n",
       "      <th>PROJ_SUFFIX</th>\n",
       "      <th>NBI_TYPE_OF_IMP</th>\n",
       "      <th>DTL_TYPE_OF_IMP</th>\n",
       "      <th>SPECIAL_CODE</th>\n",
       "      <th>STEP_CODE</th>\n",
       "      <th>STATUS_WITH_10YR_RULE</th>\n",
       "      <th>SUFFICIENCY_ASTERC</th>\n",
       "      <th>SUFFICIENCY_RATING</th>\n",
       "      <th>STATUS_NO_10YR_RULE</th>\n",
       "      <th>CAT10</th>\n",
       "    </tr>\n",
       "  </thead>\n",
       "  <tbody>\n",
       "    <tr>\n",
       "      <th>0</th>\n",
       "      <td>36</td>\n",
       "      <td>1000040</td>\n",
       "      <td>1</td>\n",
       "      <td>2</td>\n",
       "      <td>1</td>\n",
       "      <td>1</td>\n",
       "      <td>0</td>\n",
       "      <td>87</td>\n",
       "      <td>119</td>\n",
       "      <td>44831</td>\n",
       "      <td>...</td>\n",
       "      <td>NaN</td>\n",
       "      <td>NaN</td>\n",
       "      <td>NaN</td>\n",
       "      <td>NaN</td>\n",
       "      <td>NaN</td>\n",
       "      <td>0</td>\n",
       "      <td>NaN</td>\n",
       "      <td>44.1</td>\n",
       "      <td>0</td>\n",
       "      <td>F</td>\n",
       "    </tr>\n",
       "    <tr>\n",
       "      <th>1</th>\n",
       "      <td>36</td>\n",
       "      <td>1000090</td>\n",
       "      <td>1</td>\n",
       "      <td>2</td>\n",
       "      <td>1</td>\n",
       "      <td>1</td>\n",
       "      <td>0</td>\n",
       "      <td>87</td>\n",
       "      <td>119</td>\n",
       "      <td>64309</td>\n",
       "      <td>...</td>\n",
       "      <td>0.0</td>\n",
       "      <td>14.0</td>\n",
       "      <td>17.0</td>\n",
       "      <td>NaN</td>\n",
       "      <td>NaN</td>\n",
       "      <td>2</td>\n",
       "      <td>NaN</td>\n",
       "      <td>72.3</td>\n",
       "      <td>2</td>\n",
       "      <td>F</td>\n",
       "    </tr>\n",
       "    <tr>\n",
       "      <th>2</th>\n",
       "      <td>36</td>\n",
       "      <td>1000121</td>\n",
       "      <td>1</td>\n",
       "      <td>2</td>\n",
       "      <td>1</td>\n",
       "      <td>1</td>\n",
       "      <td>0</td>\n",
       "      <td>87</td>\n",
       "      <td>119</td>\n",
       "      <td>59223</td>\n",
       "      <td>...</td>\n",
       "      <td>NaN</td>\n",
       "      <td>NaN</td>\n",
       "      <td>NaN</td>\n",
       "      <td>NaN</td>\n",
       "      <td>NaN</td>\n",
       "      <td>2</td>\n",
       "      <td>NaN</td>\n",
       "      <td>56.6</td>\n",
       "      <td>2</td>\n",
       "      <td>F</td>\n",
       "    </tr>\n",
       "    <tr>\n",
       "      <th>3</th>\n",
       "      <td>36</td>\n",
       "      <td>1000122</td>\n",
       "      <td>1</td>\n",
       "      <td>2</td>\n",
       "      <td>1</td>\n",
       "      <td>1</td>\n",
       "      <td>0</td>\n",
       "      <td>87</td>\n",
       "      <td>119</td>\n",
       "      <td>59223</td>\n",
       "      <td>...</td>\n",
       "      <td>NaN</td>\n",
       "      <td>NaN</td>\n",
       "      <td>NaN</td>\n",
       "      <td>NaN</td>\n",
       "      <td>NaN</td>\n",
       "      <td>0</td>\n",
       "      <td>NaN</td>\n",
       "      <td>64.1</td>\n",
       "      <td>0</td>\n",
       "      <td>F</td>\n",
       "    </tr>\n",
       "    <tr>\n",
       "      <th>4</th>\n",
       "      <td>36</td>\n",
       "      <td>1000140</td>\n",
       "      <td>1</td>\n",
       "      <td>3</td>\n",
       "      <td>1</td>\n",
       "      <td>32</td>\n",
       "      <td>0</td>\n",
       "      <td>11</td>\n",
       "      <td>1</td>\n",
       "      <td>46536</td>\n",
       "      <td>...</td>\n",
       "      <td>0.0</td>\n",
       "      <td>11.0</td>\n",
       "      <td>11.0</td>\n",
       "      <td>NaN</td>\n",
       "      <td>NaN</td>\n",
       "      <td>0</td>\n",
       "      <td>NaN</td>\n",
       "      <td>96.5</td>\n",
       "      <td>0</td>\n",
       "      <td>G</td>\n",
       "    </tr>\n",
       "  </tbody>\n",
       "</table>\n",
       "<p>5 rows × 135 columns</p>\n",
       "</div>"
      ],
      "text/plain": [
       "   STATE_CODE_001 STRUCTURE_NUMBER_008  RECORD_TYPE_005A  ROUTE_PREFIX_005B  \\\n",
       "0              36              1000040                 1                  2   \n",
       "1              36              1000090                 1                  2   \n",
       "2              36              1000121                 1                  2   \n",
       "3              36              1000122                 1                  2   \n",
       "4              36              1000140                 1                  3   \n",
       "\n",
       "   SERVICE_LEVEL_005C ROUTE_NUMBER_005D  DIRECTION_005E HIGHWAY_DISTRICT_002  \\\n",
       "0                   1                 1               0                   87   \n",
       "1                   1                 1               0                   87   \n",
       "2                   1                 1               0                   87   \n",
       "3                   1                 1               0                   87   \n",
       "4                   1                32               0                   11   \n",
       "\n",
       "   COUNTY_CODE_003  PLACE_CODE_004  ...   PROJ_SUFFIX  NBI_TYPE_OF_IMP  \\\n",
       "0              119           44831  ...           NaN              NaN   \n",
       "1              119           64309  ...           0.0             14.0   \n",
       "2              119           59223  ...           NaN              NaN   \n",
       "3              119           59223  ...           NaN              NaN   \n",
       "4                1           46536  ...           0.0             11.0   \n",
       "\n",
       "  DTL_TYPE_OF_IMP SPECIAL_CODE  STEP_CODE  STATUS_WITH_10YR_RULE  \\\n",
       "0             NaN          NaN        NaN                      0   \n",
       "1            17.0          NaN        NaN                      2   \n",
       "2             NaN          NaN        NaN                      2   \n",
       "3             NaN          NaN        NaN                      0   \n",
       "4            11.0          NaN        NaN                      0   \n",
       "\n",
       "   SUFFICIENCY_ASTERC SUFFICIENCY_RATING  STATUS_NO_10YR_RULE  CAT10  \n",
       "0                 NaN               44.1                    0      F  \n",
       "1                 NaN               72.3                    2      F  \n",
       "2                 NaN               56.6                    2      F  \n",
       "3                 NaN               64.1                    0      F  \n",
       "4                 NaN               96.5                    0      G  \n",
       "\n",
       "[5 rows x 135 columns]"
      ]
     },
     "execution_count": 2,
     "metadata": {},
     "output_type": "execute_result"
    }
   ],
   "source": [
    "import pandas as pd\n",
    "import numpy as np\n",
    "import folium\n",
    "\n",
    "\n",
    "bridges = pd.read_csv(\"NY16.csv\")\n",
    "bridges.head()"
   ]
  },
  {
   "cell_type": "markdown",
   "metadata": {},
   "source": [
    "## Bridge Inventory: https://www.fhwa.dot.gov/bridge/nbi.cfm\n",
    "## Data Dictionary: https://www.fhwa.dot.gov/bridge/nbi/format.cfm\n",
    "## Guide: https://www.fhwa.dot.gov/bridge/mtguide.pdf\n",
    "## Data: https://www.fhwa.dot.gov/bridge/nbi/ascii.cfm\n",
    "\n",
    "### degrees, minutes, seconds: http://www.augustatech.edu/math/molik/DegreesTransparency.pdf\n",
    "\n",
    "\n",
    "### How many bridges are in New York City?"
   ]
  },
  {
   "cell_type": "code",
   "execution_count": 3,
   "metadata": {
    "collapsed": false
   },
   "outputs": [
    {
     "name": "stdout",
     "output_type": "stream",
     "text": [
      "1442\n"
     ]
    },
    {
     "name": "stderr",
     "output_type": "stream",
     "text": [
      "/Users/ShaneShifflett/anaconda/lib/python3.5/site-packages/ipykernel/__main__.py:23: SettingWithCopyWarning: \n",
      "A value is trying to be set on a copy of a slice from a DataFrame.\n",
      "Try using .loc[row_indexer,col_indexer] = value instead\n",
      "\n",
      "See the caveats in the documentation: http://pandas.pydata.org/pandas-docs/stable/indexing.html#indexing-view-versus-copy\n"
     ]
    },
    {
     "data": {
      "text/plain": [
       "1442"
      ]
     },
     "execution_count": 3,
     "metadata": {},
     "output_type": "execute_result"
    }
   ],
   "source": [
    "bx_fips = 5\n",
    "bk_fips = 47\n",
    "manhattan_fips = 61\n",
    "queens_fips = 81\n",
    "staten_fips = 85\n",
    "nyc_county_fips = [\n",
    "    bx_fips,\n",
    "    bk_fips,\n",
    "    manhattan_fips,\n",
    "    queens_fips,\n",
    "    staten_fips\n",
    "]\n",
    "\n",
    "buro_map = [\n",
    "    'bronx',\n",
    "    'brooklyn',\n",
    "    'manhattan',\n",
    "    'queens',\n",
    "    'staten island'\n",
    "]\n",
    "\n",
    "nyc_bridges = bridges[bridges['COUNTY_CODE_003'].isin(nyc_county_fips)]\n",
    "nyc_bridges['buro'] = nyc_bridges.apply(lambda x: buro_map[nyc_county_fips.index(x['COUNTY_CODE_003'])], axis=1)\n",
    "print(len(nyc_bridges['STRUCTURE_NUMBER_008'].unique()))\n",
    "len(nyc_bridges)"
   ]
  },
  {
   "cell_type": "markdown",
   "metadata": {},
   "source": [
    "### How many 'structurally deficient' bridges are in NYC?\n",
    "\n",
    "The worst bridges are generally those with a score below 50 percent, are classified as “structurally deficient” due to at least one defect that requires attention. OR\n",
    "\n",
    "Status field...\n",
    "\n",
    "1 = Structurally Deficient;\n",
    "2 = Functionally Obsolete;\n",
    "0 = Not Deficient;\n",
    "N = Not Applicable"
   ]
  },
  {
   "cell_type": "code",
   "execution_count": 4,
   "metadata": {
    "collapsed": false
   },
   "outputs": [
    {
     "data": {
      "text/plain": [
       "141"
      ]
     },
     "execution_count": 4,
     "metadata": {},
     "output_type": "execute_result"
    }
   ],
   "source": [
    "deficient_nyc_bridges = nyc_bridges[nyc_bridges['STATUS_NO_10YR_RULE'] == 1]\n",
    "len(deficient_nyc_bridges)"
   ]
  },
  {
   "cell_type": "markdown",
   "metadata": {},
   "source": [
    "### Rank buros by count of deficient bridges"
   ]
  },
  {
   "cell_type": "code",
   "execution_count": 5,
   "metadata": {
    "collapsed": false
   },
   "outputs": [
    {
     "data": {
      "text/html": [
       "<div>\n",
       "<table border=\"1\" class=\"dataframe\">\n",
       "  <thead>\n",
       "    <tr style=\"text-align: right;\">\n",
       "      <th></th>\n",
       "      <th>buro</th>\n",
       "      <th>STRUCTURE_NUMBER_008</th>\n",
       "    </tr>\n",
       "  </thead>\n",
       "  <tbody>\n",
       "    <tr>\n",
       "      <th>4</th>\n",
       "      <td>staten island</td>\n",
       "      <td>4</td>\n",
       "    </tr>\n",
       "    <tr>\n",
       "      <th>1</th>\n",
       "      <td>brooklyn</td>\n",
       "      <td>26</td>\n",
       "    </tr>\n",
       "    <tr>\n",
       "      <th>2</th>\n",
       "      <td>manhattan</td>\n",
       "      <td>28</td>\n",
       "    </tr>\n",
       "    <tr>\n",
       "      <th>3</th>\n",
       "      <td>queens</td>\n",
       "      <td>36</td>\n",
       "    </tr>\n",
       "    <tr>\n",
       "      <th>0</th>\n",
       "      <td>bronx</td>\n",
       "      <td>47</td>\n",
       "    </tr>\n",
       "  </tbody>\n",
       "</table>\n",
       "</div>"
      ],
      "text/plain": [
       "            buro  STRUCTURE_NUMBER_008\n",
       "4  staten island                     4\n",
       "1       brooklyn                    26\n",
       "2      manhattan                    28\n",
       "3         queens                    36\n",
       "0          bronx                    47"
      ]
     },
     "execution_count": 5,
     "metadata": {},
     "output_type": "execute_result"
    }
   ],
   "source": [
    "deficient_by_buro = pd.pivot_table(deficient_nyc_bridges,index=[\"buro\"], values=[\"STRUCTURE_NUMBER_008\"], aggfunc=lambda x: len(x.unique()))\n",
    "deficient_by_buro.reset_index().sort_values(by=['STRUCTURE_NUMBER_008'])"
   ]
  },
  {
   "cell_type": "markdown",
   "metadata": {},
   "source": [
    "### What is the estimated cost to repair these bridges?"
   ]
  },
  {
   "cell_type": "code",
   "execution_count": 6,
   "metadata": {
    "collapsed": false
   },
   "outputs": [
    {
     "data": {
      "text/html": [
       "<div>\n",
       "<table border=\"1\" class=\"dataframe\">\n",
       "  <thead>\n",
       "    <tr style=\"text-align: right;\">\n",
       "      <th></th>\n",
       "      <th>buro</th>\n",
       "      <th>TOTAL_IMP_COST_096</th>\n",
       "    </tr>\n",
       "  </thead>\n",
       "  <tbody>\n",
       "    <tr>\n",
       "      <th>4</th>\n",
       "      <td>staten island</td>\n",
       "      <td>29183.0</td>\n",
       "    </tr>\n",
       "    <tr>\n",
       "      <th>1</th>\n",
       "      <td>brooklyn</td>\n",
       "      <td>1650353.0</td>\n",
       "    </tr>\n",
       "    <tr>\n",
       "      <th>3</th>\n",
       "      <td>queens</td>\n",
       "      <td>2056792.0</td>\n",
       "    </tr>\n",
       "    <tr>\n",
       "      <th>2</th>\n",
       "      <td>manhattan</td>\n",
       "      <td>2067870.0</td>\n",
       "    </tr>\n",
       "    <tr>\n",
       "      <th>0</th>\n",
       "      <td>bronx</td>\n",
       "      <td>2958936.0</td>\n",
       "    </tr>\n",
       "  </tbody>\n",
       "</table>\n",
       "</div>"
      ],
      "text/plain": [
       "            buro  TOTAL_IMP_COST_096\n",
       "4  staten island             29183.0\n",
       "1       brooklyn           1650353.0\n",
       "3         queens           2056792.0\n",
       "2      manhattan           2067870.0\n",
       "0          bronx           2958936.0"
      ]
     },
     "execution_count": 6,
     "metadata": {},
     "output_type": "execute_result"
    }
   ],
   "source": [
    "#TOTAL_IMP_COST_096\n",
    "cost_by_buro = pd.pivot_table(deficient_nyc_bridges,index=[\"buro\"], values=[\"TOTAL_IMP_COST_096\"], aggfunc=np.sum)\n",
    "cost_by_buro.reset_index().sort_values(by=['TOTAL_IMP_COST_096'])\n"
   ]
  },
  {
   "cell_type": "code",
   "execution_count": 7,
   "metadata": {
    "collapsed": false
   },
   "outputs": [
    {
     "data": {
      "text/html": [
       "<div>\n",
       "<table border=\"1\" class=\"dataframe\">\n",
       "  <thead>\n",
       "    <tr style=\"text-align: right;\">\n",
       "      <th></th>\n",
       "      <th>buro</th>\n",
       "      <th>STRUCTURE_NUMBER_008</th>\n",
       "      <th>TOTAL_IMP_COST_096</th>\n",
       "    </tr>\n",
       "  </thead>\n",
       "  <tbody>\n",
       "    <tr>\n",
       "      <th>0</th>\n",
       "      <td>bronx</td>\n",
       "      <td>47</td>\n",
       "      <td>$2,958,936.0</td>\n",
       "    </tr>\n",
       "    <tr>\n",
       "      <th>1</th>\n",
       "      <td>brooklyn</td>\n",
       "      <td>26</td>\n",
       "      <td>$1,650,353.0</td>\n",
       "    </tr>\n",
       "    <tr>\n",
       "      <th>2</th>\n",
       "      <td>manhattan</td>\n",
       "      <td>28</td>\n",
       "      <td>$2,067,870.0</td>\n",
       "    </tr>\n",
       "    <tr>\n",
       "      <th>3</th>\n",
       "      <td>queens</td>\n",
       "      <td>36</td>\n",
       "      <td>$2,056,792.0</td>\n",
       "    </tr>\n",
       "    <tr>\n",
       "      <th>4</th>\n",
       "      <td>staten island</td>\n",
       "      <td>4</td>\n",
       "      <td>$29,183.0</td>\n",
       "    </tr>\n",
       "  </tbody>\n",
       "</table>\n",
       "</div>"
      ],
      "text/plain": [
       "            buro  STRUCTURE_NUMBER_008 TOTAL_IMP_COST_096\n",
       "0          bronx                    47       $2,958,936.0\n",
       "1       brooklyn                    26       $1,650,353.0\n",
       "2      manhattan                    28       $2,067,870.0\n",
       "3         queens                    36       $2,056,792.0\n",
       "4  staten island                     4          $29,183.0"
      ]
     },
     "execution_count": 7,
     "metadata": {},
     "output_type": "execute_result"
    }
   ],
   "source": [
    "cost_count_by_buro = pd.concat((deficient_by_buro, cost_by_buro), axis=1).reset_index()\n",
    "cost_count_by_buro['TOTAL_IMP_COST_096'] = cost_count_by_buro['TOTAL_IMP_COST_096'].apply(lambda x: '${:,}'.format(x))\n",
    "cost_count_by_buro"
   ]
  },
  {
   "cell_type": "markdown",
   "metadata": {},
   "source": [
    "### Convert lat/lng\n"
   ]
  },
  {
   "cell_type": "code",
   "execution_count": 8,
   "metadata": {
    "collapsed": false,
    "scrolled": false
   },
   "outputs": [
    {
     "name": "stderr",
     "output_type": "stream",
     "text": [
      "/Users/ShaneShifflett/anaconda/lib/python3.5/site-packages/ipykernel/__main__.py:1: SettingWithCopyWarning: \n",
      "A value is trying to be set on a copy of a slice from a DataFrame.\n",
      "Try using .loc[row_indexer,col_indexer] = value instead\n",
      "\n",
      "See the caveats in the documentation: http://pandas.pydata.org/pandas-docs/stable/indexing.html#indexing-view-versus-copy\n",
      "  if __name__ == '__main__':\n",
      "/Users/ShaneShifflett/anaconda/lib/python3.5/site-packages/ipykernel/__main__.py:2: SettingWithCopyWarning: \n",
      "A value is trying to be set on a copy of a slice from a DataFrame.\n",
      "Try using .loc[row_indexer,col_indexer] = value instead\n",
      "\n",
      "See the caveats in the documentation: http://pandas.pydata.org/pandas-docs/stable/indexing.html#indexing-view-versus-copy\n",
      "  from ipykernel import kernelapp as app\n",
      "/Users/ShaneShifflett/anaconda/lib/python3.5/site-packages/ipykernel/__main__.py:3: SettingWithCopyWarning: \n",
      "A value is trying to be set on a copy of a slice from a DataFrame.\n",
      "Try using .loc[row_indexer,col_indexer] = value instead\n",
      "\n",
      "See the caveats in the documentation: http://pandas.pydata.org/pandas-docs/stable/indexing.html#indexing-view-versus-copy\n",
      "  app.launch_new_instance()\n",
      "/Users/ShaneShifflett/anaconda/lib/python3.5/site-packages/ipykernel/__main__.py:4: SettingWithCopyWarning: \n",
      "A value is trying to be set on a copy of a slice from a DataFrame.\n",
      "Try using .loc[row_indexer,col_indexer] = value instead\n",
      "\n",
      "See the caveats in the documentation: http://pandas.pydata.org/pandas-docs/stable/indexing.html#indexing-view-versus-copy\n",
      "/Users/ShaneShifflett/anaconda/lib/python3.5/site-packages/ipykernel/__main__.py:6: SettingWithCopyWarning: \n",
      "A value is trying to be set on a copy of a slice from a DataFrame.\n",
      "Try using .loc[row_indexer,col_indexer] = value instead\n",
      "\n",
      "See the caveats in the documentation: http://pandas.pydata.org/pandas-docs/stable/indexing.html#indexing-view-versus-copy\n",
      "/Users/ShaneShifflett/anaconda/lib/python3.5/site-packages/ipykernel/__main__.py:7: SettingWithCopyWarning: \n",
      "A value is trying to be set on a copy of a slice from a DataFrame.\n",
      "Try using .loc[row_indexer,col_indexer] = value instead\n",
      "\n",
      "See the caveats in the documentation: http://pandas.pydata.org/pandas-docs/stable/indexing.html#indexing-view-versus-copy\n",
      "/Users/ShaneShifflett/anaconda/lib/python3.5/site-packages/ipykernel/__main__.py:8: SettingWithCopyWarning: \n",
      "A value is trying to be set on a copy of a slice from a DataFrame.\n",
      "Try using .loc[row_indexer,col_indexer] = value instead\n",
      "\n",
      "See the caveats in the documentation: http://pandas.pydata.org/pandas-docs/stable/indexing.html#indexing-view-versus-copy\n",
      "/Users/ShaneShifflett/anaconda/lib/python3.5/site-packages/ipykernel/__main__.py:9: SettingWithCopyWarning: \n",
      "A value is trying to be set on a copy of a slice from a DataFrame.\n",
      "Try using .loc[row_indexer,col_indexer] = value instead\n",
      "\n",
      "See the caveats in the documentation: http://pandas.pydata.org/pandas-docs/stable/indexing.html#indexing-view-versus-copy\n",
      "/Users/ShaneShifflett/anaconda/lib/python3.5/site-packages/ipykernel/__main__.py:10: SettingWithCopyWarning: \n",
      "A value is trying to be set on a copy of a slice from a DataFrame.\n",
      "Try using .loc[row_indexer,col_indexer] = value instead\n",
      "\n",
      "See the caveats in the documentation: http://pandas.pydata.org/pandas-docs/stable/indexing.html#indexing-view-versus-copy\n"
     ]
    },
    {
     "data": {
      "text/html": [
       "<div>\n",
       "<table border=\"1\" class=\"dataframe\">\n",
       "  <thead>\n",
       "    <tr style=\"text-align: right;\">\n",
       "      <th></th>\n",
       "      <th>lat</th>\n",
       "      <th>long</th>\n",
       "      <th>LAT_016</th>\n",
       "      <th>LONG_017</th>\n",
       "    </tr>\n",
       "  </thead>\n",
       "  <tbody>\n",
       "    <tr>\n",
       "      <th>4386</th>\n",
       "      <td>40.740556</td>\n",
       "      <td>-73.786667</td>\n",
       "      <td>40442699</td>\n",
       "      <td>73471243</td>\n",
       "    </tr>\n",
       "    <tr>\n",
       "      <th>4391</th>\n",
       "      <td>40.743889</td>\n",
       "      <td>-73.771389</td>\n",
       "      <td>40443870</td>\n",
       "      <td>73461764</td>\n",
       "    </tr>\n",
       "    <tr>\n",
       "      <th>4397</th>\n",
       "      <td>40.747222</td>\n",
       "      <td>-73.761111</td>\n",
       "      <td>40445070</td>\n",
       "      <td>73454053</td>\n",
       "    </tr>\n",
       "    <tr>\n",
       "      <th>4418</th>\n",
       "      <td>40.674167</td>\n",
       "      <td>-73.801389</td>\n",
       "      <td>40402750</td>\n",
       "      <td>73480559</td>\n",
       "    </tr>\n",
       "    <tr>\n",
       "      <th>4436</th>\n",
       "      <td>40.762500</td>\n",
       "      <td>-73.839722</td>\n",
       "      <td>40454509</td>\n",
       "      <td>73502363</td>\n",
       "    </tr>\n",
       "  </tbody>\n",
       "</table>\n",
       "</div>"
      ],
      "text/plain": [
       "            lat       long   LAT_016  LONG_017\n",
       "4386  40.740556 -73.786667  40442699  73471243\n",
       "4391  40.743889 -73.771389  40443870  73461764\n",
       "4397  40.747222 -73.761111  40445070  73454053\n",
       "4418  40.674167 -73.801389  40402750  73480559\n",
       "4436  40.762500 -73.839722  40454509  73502363"
      ]
     },
     "execution_count": 8,
     "metadata": {},
     "output_type": "execute_result"
    }
   ],
   "source": [
    "deficient_nyc_bridges['lat_degrees'] = deficient_nyc_bridges['LAT_016'].apply(lambda x: float(str(x/1000000).split('.')[0]))\n",
    "deficient_nyc_bridges['lat_minutes'] = deficient_nyc_bridges['LAT_016'].apply(lambda x: float(str(x/1000000).split('.')[-1][0:2]))\n",
    "deficient_nyc_bridges['lat_seconds'] = deficient_nyc_bridges['LAT_016'].apply(lambda x: float(str(x/1000000).split('.')[-1][2:4]))\n",
    "deficient_nyc_bridges['lat'] = deficient_nyc_bridges.apply(lambda x: x['lat_degrees'] + (x['lat_minutes']/60.0) + (x['lat_seconds']/3600.0), axis=1)\n",
    "\n",
    "deficient_nyc_bridges['long_degrees'] = deficient_nyc_bridges['LONG_017'].apply(lambda x: float(str(x/1000000).split('.')[0]))\n",
    "deficient_nyc_bridges['long_minutes'] = deficient_nyc_bridges['LONG_017'].apply(lambda x: float(str(x/1000000).split('.')[-1][0:2]))\n",
    "deficient_nyc_bridges['long_seconds'] = deficient_nyc_bridges['LONG_017'].apply(lambda x: float(str(x/1000000).split('.')[-1][2:4]))\n",
    "deficient_nyc_bridges['long'] = deficient_nyc_bridges.apply(lambda x: x['long_degrees'] + (x['long_minutes']/60.0) + (x['long_seconds']/3600.0), axis=1)\n",
    "deficient_nyc_bridges['long'] = deficient_nyc_bridges['long'] * -1\n",
    "deficient_nyc_bridges.head()[['lat', 'long', 'LAT_016', 'LONG_017']]"
   ]
  },
  {
   "cell_type": "code",
   "execution_count": 12,
   "metadata": {
    "collapsed": false
   },
   "outputs": [
    {
     "data": {
      "text/html": [
       "<div>\n",
       "<table border=\"1\" class=\"dataframe\">\n",
       "  <thead>\n",
       "    <tr style=\"text-align: right;\">\n",
       "      <th></th>\n",
       "      <th>STATE_CODE_001</th>\n",
       "      <th>STRUCTURE_NUMBER_008</th>\n",
       "      <th>RECORD_TYPE_005A</th>\n",
       "      <th>ROUTE_PREFIX_005B</th>\n",
       "      <th>SERVICE_LEVEL_005C</th>\n",
       "      <th>ROUTE_NUMBER_005D</th>\n",
       "      <th>DIRECTION_005E</th>\n",
       "      <th>HIGHWAY_DISTRICT_002</th>\n",
       "      <th>COUNTY_CODE_003</th>\n",
       "      <th>PLACE_CODE_004</th>\n",
       "      <th>...</th>\n",
       "      <th>CAT10</th>\n",
       "      <th>buro</th>\n",
       "      <th>lat_degrees</th>\n",
       "      <th>lat_minutes</th>\n",
       "      <th>lat_seconds</th>\n",
       "      <th>lat</th>\n",
       "      <th>long_degrees</th>\n",
       "      <th>long_minutes</th>\n",
       "      <th>long_seconds</th>\n",
       "      <th>long</th>\n",
       "    </tr>\n",
       "  </thead>\n",
       "  <tbody>\n",
       "  </tbody>\n",
       "</table>\n",
       "<p>0 rows × 144 columns</p>\n",
       "</div>"
      ],
      "text/plain": [
       "Empty DataFrame\n",
       "Columns: [STATE_CODE_001, STRUCTURE_NUMBER_008, RECORD_TYPE_005A, ROUTE_PREFIX_005B, SERVICE_LEVEL_005C, ROUTE_NUMBER_005D, DIRECTION_005E, HIGHWAY_DISTRICT_002, COUNTY_CODE_003, PLACE_CODE_004, FEATURES_DESC_006A, CRITICAL_FACILITY_006B, FACILITY_CARRIED_007, LOCATION_009, MIN_VERT_CLR_010, KILOPOINT_011, BASE_HWY_NETWORK_012, LRS_INV_ROUTE_013A, SUBROUTE_NO_013B, LAT_016, LONG_017, DETOUR_KILOS_019, TOLL_020, MAINTENANCE_021, OWNER_022, FUNCTIONAL_CLASS_026, YEAR_BUILT_027, TRAFFIC_LANES_ON_028A, TRAFFIC_LANES_UND_028B, ADT_029, YEAR_ADT_030, DESIGN_LOAD_031, APPR_WIDTH_MT_032, MEDIAN_CODE_033, DEGREES_SKEW_034, STRUCTURE_FLARED_035, RAILINGS_036A, TRANSITIONS_036B, APPR_RAIL_036C, APPR_RAIL_END_036D, HISTORY_037, NAVIGATION_038, NAV_VERT_CLR_MT_039, NAV_HORR_CLR_MT_040, OPEN_CLOSED_POSTED_041, SERVICE_ON_042A, SERVICE_UND_042B, STRUCTURE_KIND_043A, STRUCTURE_TYPE_043B, APPR_KIND_044A, APPR_TYPE_044B, MAIN_UNIT_SPANS_045, APPR_SPANS_046, HORR_CLR_MT_047, MAX_SPAN_LEN_MT_048, STRUCTURE_LEN_MT_049, LEFT_CURB_MT_050A, RIGHT_CURB_MT_050B, ROADWAY_WIDTH_MT_051, DECK_WIDTH_MT_052, VERT_CLR_OVER_MT_053, VERT_CLR_UND_REF_054A, VERT_CLR_UND_054B, LAT_UND_REF_055A, LAT_UND_MT_055B, LEFT_LAT_UND_MT_056, DECK_COND_058, SUPERSTRUCTURE_COND_059, SUBSTRUCTURE_COND_060, CHANNEL_COND_061, CULVERT_COND_062, OPR_RATING_METH_063, OPERATING_RATING_064, INV_RATING_METH_065, INVENTORY_RATING_066, STRUCTURAL_EVAL_067, DECK_GEOMETRY_EVAL_068, UNDCLRENCE_EVAL_069, POSTING_EVAL_070, WATERWAY_EVAL_071, APPR_ROAD_EVAL_072, WORK_PROPOSED_075A, WORK_DONE_BY_075B, IMP_LEN_MT_076, DATE_OF_INSPECT_090, INSPECT_FREQ_MONTHS_091, FRACTURE_092A, UNDWATER_LOOK_SEE_092B, SPEC_INSPECT_092C, FRACTURE_LAST_DATE_093A, UNDWATER_LAST_DATE_093B, SPEC_LAST_DATE_093C, BRIDGE_IMP_COST_094, ROADWAY_IMP_COST_095, TOTAL_IMP_COST_096, YEAR_OF_IMP_097, OTHER_STATE_CODE_098A, OTHER_STATE_PCNT_098B, OTHR_STATE_STRUC_NO_099, STRAHNET_HIGHWAY_100, ...]\n",
       "Index: []\n",
       "\n",
       "[0 rows x 144 columns]"
      ]
     },
     "execution_count": 12,
     "metadata": {},
     "output_type": "execute_result"
    }
   ],
   "source": [
    "deficient_nyc_bridges[deficient_nyc_bridges['LAT_016'] == 40435073]"
   ]
  },
  {
   "cell_type": "markdown",
   "metadata": {
    "collapsed": true
   },
   "source": [
    "### Maps!\n",
    "\n",
    "https://rawgit.com/CoulterJones/New-School/master/news-narrative-design/spring-2017/level-two/bridges.html\n",
    "\n",
    "http://rawgit.com/"
   ]
  },
  {
   "cell_type": "code",
   "execution_count": null,
   "metadata": {
    "collapsed": false
   },
   "outputs": [],
   "source": [
    "bridge_map = folium.Map(location=[40.7128, -74.0059], tiles='Stamen Toner',\n",
    "                    zoom_start=13)\n",
    "\n",
    "for row in deficient_nyc_bridges.iterrows():\n",
    "    idx = row[0]\n",
    "    obj = row[1]\n",
    "    latlng = [obj['lat'], obj['long']]\n",
    "    rating = obj['SUFFICIENCY_RATING']\n",
    "    marker = folium.CircleMarker(location=latlng, radius=100,\n",
    "                    color='red',\n",
    "                    fill_color='red')\n",
    "    marker.add_to(bridge_map)\n",
    "bridge_map.save('bridges.html')"
   ]
  },
  {
   "cell_type": "code",
   "execution_count": null,
   "metadata": {
    "collapsed": true
   },
   "outputs": [],
   "source": [
    "deficient_nyc_bridges[['lat', 'long']].to_csv(\"nyc-deficient-bridges-locs.csv\")"
   ]
  },
  {
   "cell_type": "code",
   "execution_count": null,
   "metadata": {
    "collapsed": true
   },
   "outputs": [],
   "source": []
  }
 ],
 "metadata": {
  "kernelspec": {
   "display_name": "Python [Root]",
   "language": "python",
   "name": "Python [Root]"
  },
  "language_info": {
   "codemirror_mode": {
    "name": "ipython",
    "version": 3
   },
   "file_extension": ".py",
   "mimetype": "text/x-python",
   "name": "python",
   "nbconvert_exporter": "python",
   "pygments_lexer": "ipython3",
   "version": "3.5.2"
  }
 },
 "nbformat": 4,
 "nbformat_minor": 0
}
